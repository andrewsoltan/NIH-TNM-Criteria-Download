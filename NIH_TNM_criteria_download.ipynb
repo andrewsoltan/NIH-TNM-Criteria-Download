{
 "cells": [
  {
   "cell_type": "raw",
   "id": "19bebace-e4ac-4ba4-b57e-5f0bc30d6730",
   "metadata": {
    "scrolled": true
   },
   "source": [
    "\"\"\"\n",
    "Title: Download TNM Staging Tables by Tumour Type from NIH National Cancer Institute\n",
    "Date: 19/11/23\n",
    "Version: 1.0\n",
    "Author: Andrew Soltan\n",
    "\n",
    "This script uses the SEER API, provided by the NIH National Cancer Institute, to download and save the latest version of the TNM staging criteria (separated by cancer type) for tumour types of interest.\n",
    "\n",
    "The full API documentation is available here: https://api.seer.cancer.gov/usage\n",
    "Instructions to get an API key are available here: https://api.seer.cancer.gov/usage\n",
    "\n",
    "To get the name of the tumour type for the tumourTypes list:\n",
    "Review the schema at: https://staging.seer.cancer.gov/tnm/list/2.0/\n",
    "Select the desired tumour type, and then read the URL https://staging.seer.cancer.gov/tnm/schema/2.0/XXXX - the XXX section is the tumour type to use in the tumourTypes list. Typically this is the tumour type in lower case, e.g. 'colon'\n",
    "\n",
    "Before running, please set:\n",
    "1) The tumour types that you would like to download staging criteria for in the \"tumourTypes\" list\n",
    "2) The output directory, where TNM staging will be saved (outputFolder). By default, the output directory is: tumourTNMstaging\n",
    "3) Add your API key\n",
    "\"\"\""
   ]
  },
  {
   "cell_type": "code",
   "execution_count": 158,
   "id": "7cdcfb53-3b5f-4c2b-a4b3-767625f51253",
   "metadata": {},
   "outputs": [
    {
     "name": "stdout",
     "output_type": "stream",
     "text": [
      "Defaulting to user installation because normal site-packages is not writeable\n",
      "Requirement already satisfied: pandas in /usr/local/lib/python3.10/dist-packages (2.1.0)\n",
      "Requirement already satisfied: numpy in /usr/local/lib/python3.10/dist-packages (1.24.3)\n",
      "Requirement already satisfied: requests in /home/andrewsoltan/.local/lib/python3.10/site-packages (2.31.0)\n",
      "Requirement already satisfied: tzdata>=2022.1 in /usr/local/lib/python3.10/dist-packages (from pandas) (2023.3)\n",
      "Requirement already satisfied: pytz>=2020.1 in /usr/lib/python3/dist-packages (from pandas) (2022.1)\n",
      "Requirement already satisfied: python-dateutil>=2.8.2 in /usr/local/lib/python3.10/dist-packages (from pandas) (2.8.2)\n",
      "Requirement already satisfied: certifi>=2017.4.17 in /usr/lib/python3/dist-packages (from requests) (2020.6.20)\n",
      "Requirement already satisfied: idna<4,>=2.5 in /usr/lib/python3/dist-packages (from requests) (3.3)\n",
      "Requirement already satisfied: charset-normalizer<4,>=2 in /home/andrewsoltan/.local/lib/python3.10/site-packages (from requests) (3.2.0)\n",
      "Requirement already satisfied: urllib3<3,>=1.21.1 in /usr/lib/python3/dist-packages (from requests) (1.26.5)\n",
      "Requirement already satisfied: six>=1.5 in /usr/lib/python3/dist-packages (from python-dateutil>=2.8.2->pandas) (1.16.0)\n",
      "Note: you may need to restart the kernel to use updated packages.\n"
     ]
    }
   ],
   "source": [
    "%pip install pandas numpy requests\n",
    "import requests\n",
    "import pprint, json\n",
    "import pandas as pd"
   ]
  },
  {
   "cell_type": "code",
   "execution_count": 159,
   "id": "53164404-d339-42ce-a4e5-08f1eb97c917",
   "metadata": {},
   "outputs": [],
   "source": [
    "#Insert SEER API Key here - this can be created by following instructions at this link: https://api.seer.cancer.gov/usage\n",
    "SEER_API_KEY = \"YOUR_API_KEY\"\n",
    "\n",
    "#Output Folder Location\n",
    "outputFolder = \"tumourTNMstaging/\""
   ]
  },
  {
   "cell_type": "code",
   "execution_count": null,
   "id": "08e377be-149d-4ae9-a4fd-fae20bf25340",
   "metadata": {},
   "outputs": [],
   "source": [
    "#A list of tumour types for which TNM staging is desired\n",
    "tumourTypes = [\n",
    "    \"lung\",\n",
    "    \"colon\", \"rectum\", \"anus\",\n",
    "    \"stomach\",\"liver\", \"esophagus\", \"bile_ducts_distal\", \"bile_ducts_intrahepat\", \"bile_ducts_perihilar\",\n",
    "    \"prostate\", \"bladder\", \"kidney_parenchyma\", \"kidney_renal_pelvis\",\n",
    "    \"cervix\", \"breast\", \"ovary\",\n",
    "    \"skin\",\"melanoma_skin\",\n",
    "    \"bone\"\n",
    "]\n",
    "\n",
    "#tumourTypes=['lymphoma']\n",
    "\n",
    "#Set up the API key and headers\n",
    "baseURL = \"https://api.seer.cancer.gov/rest/staging/tnm\"\n",
    "headers = {\n",
    "    \"X-SEERAPI-Key\":SEER_API_KEY\n",
    "}\n",
    "\n",
    "##First make a request to get a list of the versions of TNM staging\n",
    "versionsURL = baseURL+\"/versions\"\n",
    "response = requests.get(versionsURL, headers=headers)\n",
    "#If request successful, pick the most recent version of TNM staging\n",
    "if (response.status_code==200):\n",
    "    TNMversions=json.loads(response.text)\n",
    "    mostRecentVersion = max(TNMversions, key=lambda x: x['last_modified'])['version']\n",
    "else:\n",
    "    pprint.pprint(response._content)\n",
    "\n",
    "\n",
    "#Loop through all tumour types for which staging is desired\n",
    "for tumourType in tumourTypes:\n",
    "    #Create a dataframe to serve as the output store\n",
    "    tumourStaging=pd.DataFrame(columns=[\"Tumour type\", \"Staging TNM\", \"Staging item\", \"Staging item display\", \"Description\", \"Registrar Notes\"])\n",
    "    \n",
    "    ##Next get a list of tables for a tumour type\n",
    "    tableIDs={}\n",
    "    tablesURL = baseURL+\"/\"+mostRecentVersion+\"/schema/\"+tumourType+\"/tables\"\n",
    "    \n",
    "    response = requests.get(tablesURL, headers=headers)\n",
    "    if (response.status_code==200):\n",
    "        tables=json.loads(response.text)\n",
    "\n",
    "        #For debugging, print tables\n",
    "        #pprint.pprint(tables)\n",
    "        \n",
    "        #Cycle through the response to find the table IDs for CLINICAL T, N and M\n",
    "        tableIDs['Clinical T'] = [table for table in tables if table.get(\"title\") == \"Clinical T\"][0]['id']\n",
    "        tableIDs['Clinical N'] = [table for table in tables if table.get(\"title\") == \"Clinical N\"][0]['id']\n",
    "        tableIDs['Clinical M'] = [table for table in tables if table.get(\"title\") == \"Clinical M\"][0]['id']\n",
    "    \n",
    "        #Cycle through the response to find the table IDs for PATHOLOGIC T, N and M\n",
    "\n",
    "        #NB: For the anus tumour type, there is a spelling error in the NIH TNM v2.0 schema - 'Pathologic' is misspelt as 'Pathologicl'! This is a manual correction\n",
    "        try:\n",
    "            tableIDs['Pathologic T'] = [table for table in tables if table.get(\"title\") == \"Pathologic T\"][0]['id']\n",
    "        except IndexError:\n",
    "            tableIDs['Pathologic T'] = [table for table in tables if table.get(\"title\") == \"Pathologicl T\"][0]['id']\n",
    "            \n",
    "        tableIDs['Pathologic N'] = [table for table in tables if table.get(\"title\") == \"Pathologic N\"][0]['id']\n",
    "        tableIDs['Pathologic M'] = [table for table in tables if table.get(\"title\") == \"Pathologic M\"][0]['id']\n",
    "    \n",
    "    else:\n",
    "        pprint.pprint(response._content)\n",
    "    \n",
    "    \n",
    "    ##Next, pull the specific table, for each of clinical and pathologic T,N,M\n",
    "    for stagingComponent, tableID in tableIDs.items():\n",
    "        pullTableURL= baseURL+\"/\"+mostRecentVersion+\"/table/\"+tableID\n",
    "        response = requests.get(pullTableURL, headers=headers)\n",
    "        if (response.status_code==200):\n",
    "            tables=json.loads(response.text)\n",
    "    \n",
    "            #Create a table in the correct format, containing the return\n",
    "            tableItem = pd.DataFrame(tables['rows'], columns=[\"Staging item\", \"Staging item display\", \"Description\", \"Registrar Notes\"])\n",
    "            tableItem[\"Tumour type\"] = tumourType\n",
    "            tableItem[\"Staging TNM\"] = stagingComponent\n",
    "    \n",
    "            #Append the table to the master staging table\n",
    "            tumourStaging = pd.concat([tumourStaging,tableItem])\n",
    "            \n",
    "            #pprint.pprint(tables['rows'])\n",
    "    \n",
    "        else:\n",
    "            pprint.pprint(response._content)\n",
    "\n",
    "    \n",
    "    #Now write the full staging to a CSV\n",
    "    tumourStaging.to_csv(outputFolder+tumourType.capitalize()+\" NIH TNM Staging v\"+mostRecentVersion+\".csv\", index=False)"
   ]
  },
  {
   "cell_type": "code",
   "execution_count": null,
   "id": "b3a0f429-4b07-4319-b5ce-deb7883cb945",
   "metadata": {},
   "outputs": [],
   "source": []
  }
 ],
 "metadata": {
  "kernelspec": {
   "display_name": "Python 3 (ipykernel)",
   "language": "python",
   "name": "python3"
  },
  "language_info": {
   "codemirror_mode": {
    "name": "ipython",
    "version": 3
   },
   "file_extension": ".py",
   "mimetype": "text/x-python",
   "name": "python",
   "nbconvert_exporter": "python",
   "pygments_lexer": "ipython3",
   "version": "3.10.12"
  },
  "widgets": {
   "application/vnd.jupyter.widget-state+json": {
    "state": {},
    "version_major": 2,
    "version_minor": 0
   }
  }
 },
 "nbformat": 4,
 "nbformat_minor": 5
}
